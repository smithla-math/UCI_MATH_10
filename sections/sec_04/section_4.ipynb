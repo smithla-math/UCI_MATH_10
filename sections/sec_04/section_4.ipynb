{
 "cells": [
  {
   "cell_type": "markdown",
   "metadata": {
    "slideshow": {
     "slide_type": "slide"
    }
   },
   "source": [
    "# Section 4: Control Flows and Functions"
   ]
  },
  {
   "cell_type": "markdown",
   "metadata": {
    "slideshow": {
     "slide_type": "subslide"
    }
   },
   "source": [
    "## Control Flows"
   ]
  },
  {
   "cell_type": "markdown",
   "metadata": {
    "slideshow": {
     "slide_type": "fragment"
    }
   },
   "source": [
    "In a typical programming language, the major control flows include **Choice** and **Loop**."
   ]
  },
  {
   "cell_type": "markdown",
   "metadata": {
    "slideshow": {
     "slide_type": "fragment"
    }
   },
   "source": [
    "### Choice and `if` statements in Python"
   ]
  },
  {
   "cell_type": "markdown",
   "metadata": {
    "slideshow": {
     "slide_type": "fragment"
    }
   },
   "source": [
    "General form:\n",
    "\n",
    "`if test_1:     # test_1 should return a boolean result -- don't forget the colon: here\n",
    "    statement_1 # associated block of test_1 -- don't forget the indentation here\n",
    " elif test_2:   # optional, if we have multiple branches\n",
    "    statement_2\n",
    " else:          # optional\n",
    "    statement_3\n",
    "`"
   ]
  },
  {
   "cell_type": "code",
   "execution_count": 7,
   "metadata": {
    "slideshow": {
     "slide_type": "fragment"
    }
   },
   "outputs": [
    {
     "name": "stdout",
     "output_type": "stream",
     "text": [
      "zero\n"
     ]
    }
   ],
   "source": [
    "x = 0\n",
    "\n",
    "if x > 0:\n",
    "    print('positive number')\n",
    "elif x == 0:  # using == to test the equivalence of values. Note that keyword \"is\" is checking the equivalence of identities.\n",
    "    print('zero')\n",
    "else:\n",
    "    print('negative number')    "
   ]
  },
  {
   "cell_type": "code",
   "execution_count": 10,
   "metadata": {
    "slideshow": {
     "slide_type": "fragment"
    }
   },
   "outputs": [
    {
     "name": "stdout",
     "output_type": "stream",
     "text": [
      "x is in the list\n"
     ]
    }
   ],
   "source": [
    "x = 4\n",
    "mylist = [4,4,3]\n",
    "\n",
    "if x in mylist: # using keyword \"in\" to test if x is the element of list \n",
    "    print('x is in the list')\n",
    "else:\n",
    "    print('x is not in the list')"
   ]
  },
  {
   "cell_type": "code",
   "execution_count": 15,
   "metadata": {
    "slideshow": {
     "slide_type": "fragment"
    }
   },
   "outputs": [
    {
     "name": "stdout",
     "output_type": "stream",
     "text": [
      "non-zero number\n"
     ]
    }
   ],
   "source": [
    "x = 10\n",
    "if x > 0 or x < 0: ##  \"and,or,not\" are three typical boolean expressions in python\n",
    "    print('non-zero number')\n",
    "else:\n",
    "    print('zero number')   "
   ]
  },
  {
   "cell_type": "code",
   "execution_count": 14,
   "metadata": {
    "slideshow": {
     "slide_type": "fragment"
    }
   },
   "outputs": [
    {
     "name": "stdout",
     "output_type": "stream",
     "text": [
      "non-zero number\n"
     ]
    }
   ],
   "source": [
    "x = 10\n",
    "if not x == 0: # or you can write if x!=0        \n",
    "    print('non-zero number')\n",
    "else:\n",
    "    print('zero number')   "
   ]
  },
  {
   "cell_type": "code",
   "execution_count": 20,
   "metadata": {},
   "outputs": [
    {
     "data": {
      "text/plain": [
       "False"
      ]
     },
     "execution_count": 20,
     "metadata": {},
     "output_type": "execute_result"
    }
   ],
   "source": [
    "1 == 0 and 1 != 0"
   ]
  },
  {
   "cell_type": "markdown",
   "metadata": {
    "slideshow": {
     "slide_type": "slide"
    }
   },
   "source": [
    "**Remark**: I highly recommend you DO NOT use the `&` and `|` in if statement -- always use `and` and `or`. In Python, `and` and `or` are logical operators, while `&` and `|` are [bitwise operators that may cause unexpected problems](https://www.geeksforgeeks.org/difference-between-and-and-in-python/#:~:text=and%20is%20a%20Logical%20AND,as%20False%20when%20using%20logically.)."
   ]
  },
  {
   "cell_type": "markdown",
   "metadata": {
    "slideshow": {
     "slide_type": "slide"
    }
   },
   "source": [
    "### Loop: `while`\n",
    "\n",
    "`while test:  # test returns a boolean\n",
    "    statement_1\n",
    "else:             # a special feature about python that is overlooked! Use it in combination with break/continue \n",
    "    statement_2\n",
    "`"
   ]
  },
  {
   "cell_type": "code",
   "execution_count": 25,
   "metadata": {
    "slideshow": {
     "slide_type": "fragment"
    }
   },
   "outputs": [
    {
     "name": "stdout",
     "output_type": "stream",
     "text": [
      "2376302138304\n",
      "2376302138304\n",
      "2376302138304\n",
      "2376302138304\n",
      "2376302138304\n",
      "2376302138304\n",
      "2376302138304\n",
      "2376302138304\n",
      "2376302138304\n",
      "2376302138304\n",
      "2376302138304\n",
      "[0, 1, 2, 3, 4, 5, 6, 7, 8, 9, 10]\n"
     ]
    }
   ],
   "source": [
    "n = 0\n",
    "mylist = [] # create an empty list\n",
    "while n <= 10:\n",
    "    mylist.append(n) # the code to be executed if n < 10\n",
    "    n = n + 1 # increase the counter by 1\n",
    "    print(id(mylist))\n",
    "print(mylist) # this line is no longer in the while loop!"
   ]
  },
  {
   "cell_type": "code",
   "execution_count": 32,
   "metadata": {},
   "outputs": [],
   "source": [
    "import math"
   ]
  },
  {
   "cell_type": "code",
   "execution_count": 34,
   "metadata": {
    "slideshow": {
     "slide_type": "fragment"
    }
   },
   "outputs": [
    {
     "name": "stdout",
     "output_type": "stream",
     "text": [
      "30\n",
      "29\n",
      "28\n",
      "27\n",
      "26\n",
      "25\n",
      "24\n",
      "23\n",
      "22\n",
      "21\n",
      "20\n",
      "19\n",
      "18\n",
      "17\n",
      "16\n",
      "15\n",
      "14\n",
      "13\n",
      "y is not prime\n",
      "13\n"
     ]
    }
   ],
   "source": [
    "# determine whether y is prime\n",
    "y = 1001\n",
    "#x = y // 2 # Why? Can it be improved?\n",
    "x = math.floor(math.sqrt(y))\n",
    "while x > 1:\n",
    "    if y % x == 0: # Remainder 0 -- is divisor!\n",
    "        print('y is not prime')\n",
    "        break      # exit the while loop immediately\n",
    "    else:          # this else is for if\n",
    "        x = x-1\n",
    "        print(x)\n",
    "else:              # this else is for while -- run this if only there is normal exit without hitting the break\n",
    "    print('y is prime') # what if this statement is not in the else block?\n",
    "\n",
    "print(x)        "
   ]
  },
  {
   "cell_type": "markdown",
   "metadata": {
    "slideshow": {
     "slide_type": "slide"
    }
   },
   "source": [
    "### Loop: `for`"
   ]
  },
  {
   "cell_type": "markdown",
   "metadata": {
    "slideshow": {
     "slide_type": "fragment"
    }
   },
   "source": [
    "`for target in object:\n",
    "     statement_1\n",
    "     if test_1: break # exit the for loop immediately\n",
    "else:                 # run this only when exit normally without hitting break\n",
    "    statement_2    \n",
    "`"
   ]
  },
  {
   "cell_type": "markdown",
   "metadata": {
    "slideshow": {
     "slide_type": "fragment"
    }
   },
   "source": [
    "Computing sum of the list\n",
    "\n",
    "- Iterating the list directly\n",
    "- Iterating through the index"
   ]
  },
  {
   "cell_type": "code",
   "execution_count": 38,
   "metadata": {
    "scrolled": true,
    "slideshow": {
     "slide_type": "slide"
    }
   },
   "outputs": [
    {
     "name": "stdout",
     "output_type": "stream",
     "text": [
      "-21\n",
      "3\n",
      "3\n",
      "100\n",
      "85\n"
     ]
    }
   ],
   "source": [
    "#iterating the list\n",
    "mylist = [-21,3,3,100]\n",
    "mysum = 0\n",
    "\n",
    "for x in mylist:\n",
    "    print(x)\n",
    "    mysum = mysum + x\n",
    "\n",
    "print(mysum)  \n",
    "\n",
    "# this might be a more pythonic way!"
   ]
  },
  {
   "cell_type": "code",
   "execution_count": 37,
   "metadata": {},
   "outputs": [
    {
     "data": {
      "text/plain": [
       "4"
      ]
     },
     "execution_count": 37,
     "metadata": {},
     "output_type": "execute_result"
    }
   ],
   "source": [
    "len(mylist)"
   ]
  },
  {
   "cell_type": "code",
   "execution_count": 40,
   "metadata": {
    "slideshow": {
     "slide_type": "fragment"
    }
   },
   "outputs": [
    {
     "name": "stdout",
     "output_type": "stream",
     "text": [
      "0\n",
      "-11\n",
      "1\n",
      "2\n",
      "2\n",
      "33\n",
      "3\n",
      "7\n",
      "31\n"
     ]
    }
   ],
   "source": [
    "#iterating through index\n",
    "mylist = [-11,2,33,7]\n",
    "mysum = 0\n",
    "\n",
    "for i in range(len(mylist)):\n",
    "    print(i)\n",
    "    print(mylist[i])\n",
    "    mysum = mysum + mylist[i]\n",
    "print(mysum)\n",
    "\n",
    "# this is what you're familiar in Matlab perhaps!"
   ]
  },
  {
   "cell_type": "markdown",
   "metadata": {
    "slideshow": {
     "slide_type": "fragment"
    }
   },
   "source": [
    "By using the `enumerate()` we can actually iterate in both ways simultaneously!"
   ]
  },
  {
   "cell_type": "code",
   "execution_count": 44,
   "metadata": {
    "slideshow": {
     "slide_type": "fragment"
    }
   },
   "outputs": [
    {
     "name": "stdout",
     "output_type": "stream",
     "text": [
      "[1, 2]\n",
      "2376302179968\n",
      "[1, 2]\n",
      "2376302179968\n",
      "[3, 4]\n",
      "2376302180032\n",
      "[3, 4]\n",
      "2376302180032\n"
     ]
    }
   ],
   "source": [
    "mylist = [[1,2],[3,4]] \n",
    "\n",
    "for i,x in enumerate(mylist): # pay attention to the order (i,x)\n",
    "    print(x)\n",
    "    print(id(x))\n",
    "    print(mylist[i])\n",
    "    print(id(mylist[i]))"
   ]
  },
  {
   "cell_type": "code",
   "execution_count": 43,
   "metadata": {},
   "outputs": [
    {
     "data": {
      "text/plain": [
       "2"
      ]
     },
     "execution_count": 43,
     "metadata": {},
     "output_type": "execute_result"
    }
   ],
   "source": [
    "mylist[0][1]"
   ]
  },
  {
   "cell_type": "code",
   "execution_count": 47,
   "metadata": {},
   "outputs": [
    {
     "name": "stdout",
     "output_type": "stream",
     "text": [
      "<enumerate object at 0x0000022946A67240>\n",
      "<class 'enumerate'>\n",
      "[(0, [1, 2]), (1, [3, 4])]\n",
      "range(0, 12)\n",
      "<class 'range'>\n",
      "[0, 1, 2, 3, 4, 5, 6, 7, 8, 9, 10, 11]\n"
     ]
    }
   ],
   "source": [
    "print(enumerate(mylist)) #enumerate object is not a list\n",
    "print(type(enumerate(mylist)))\n",
    "print(list(enumerate(mylist)))\n",
    "\n",
    "print(range(12)) #range object is not a list\n",
    "print(type(range(12)))\n",
    "print(list(range(12)))"
   ]
  },
  {
   "cell_type": "code",
   "execution_count": 48,
   "metadata": {},
   "outputs": [
    {
     "name": "stdout",
     "output_type": "stream",
     "text": [
      "s\n",
      "[(0, 's'), (1, 't'), (2, 'r'), (3, 'i'), (4, 'n'), (5, 'g'), (6, 's'), (7, ' '), (8, 'a'), (9, 'r'), (10, 'e'), (11, ' '), (12, 'a'), (13, 'l'), (14, 's'), (15, 'o'), (16, ' '), (17, 'i'), (18, 'n'), (19, 'd'), (20, 'e'), (21, 'x'), (22, 'e'), (23, 'd')]\n"
     ]
    }
   ],
   "source": [
    "mysentence = 'strings are also indexed'\n",
    "print(mysentence[0])\n",
    "print(list(enumerate(mysentence)))"
   ]
  },
  {
   "cell_type": "markdown",
   "metadata": {
    "slideshow": {
     "slide_type": "slide"
    }
   },
   "source": [
    "Something tricky: Change the elements of list"
   ]
  },
  {
   "cell_type": "code",
   "execution_count": 49,
   "metadata": {
    "slideshow": {
     "slide_type": "fragment"
    }
   },
   "outputs": [
    {
     "name": "stdout",
     "output_type": "stream",
     "text": [
      "2376302222208\n",
      "[2, 3, 4, 5]\n",
      "2376302222208\n"
     ]
    }
   ],
   "source": [
    "mylist = [1,2,3,4]\n",
    "print(id(mylist))\n",
    "\n",
    "for i in range(len(mylist)):\n",
    "    mylist[i] = mylist[i] + 1\n",
    "\n",
    "print(mylist)\n",
    "print(id(mylist))\n"
   ]
  },
  {
   "cell_type": "code",
   "execution_count": 50,
   "metadata": {
    "slideshow": {
     "slide_type": "fragment"
    }
   },
   "outputs": [
    {
     "name": "stdout",
     "output_type": "stream",
     "text": [
      "2\n",
      "3\n",
      "4\n",
      "5\n",
      "[1, 2, 3, 4]\n"
     ]
    }
   ],
   "source": [
    "# this will NOT work -- think why !\n",
    "mylist = [1,2,3,4]\n",
    "\n",
    "for x in mylist:\n",
    "    x = x + 1\n",
    "    print(x)\n",
    "\n",
    "print(mylist)"
   ]
  },
  {
   "cell_type": "markdown",
   "metadata": {
    "slideshow": {
     "slide_type": "fragment"
    }
   },
   "source": [
    "A more *pythonic* way is through **list comprehension**\n",
    "\n",
    "`new_list = [A for B in C if D]`"
   ]
  },
  {
   "cell_type": "code",
   "execution_count": 54,
   "metadata": {
    "slideshow": {
     "slide_type": "fragment"
    }
   },
   "outputs": [
    {
     "name": "stdout",
     "output_type": "stream",
     "text": [
      "2376302222016\n",
      "[2, 3, 4, 5]\n",
      "2376302223104\n"
     ]
    }
   ],
   "source": [
    "mylist = [1,2,3,4]\n",
    "print(id(mylist))\n",
    "\n",
    "mylist = [x+1 for x in mylist] #creating a new list\n",
    "\n",
    "print(mylist)\n",
    "print(id(mylist))"
   ]
  },
  {
   "cell_type": "markdown",
   "metadata": {
    "slideshow": {
     "slide_type": "slide"
    }
   },
   "source": [
    "Comprehension is very powerful -- it can also be combined with if statement to 'filter' elements. Let's see the following example."
   ]
  },
  {
   "cell_type": "code",
   "execution_count": 13,
   "metadata": {},
   "outputs": [
    {
     "data": {
      "text/plain": [
       "['__add__',\n",
       " '__class__',\n",
       " '__contains__',\n",
       " '__delattr__',\n",
       " '__delitem__',\n",
       " '__dir__',\n",
       " '__doc__',\n",
       " '__eq__',\n",
       " '__format__',\n",
       " '__ge__',\n",
       " '__getattribute__',\n",
       " '__getitem__',\n",
       " '__gt__',\n",
       " '__hash__',\n",
       " '__iadd__',\n",
       " '__imul__',\n",
       " '__init__',\n",
       " '__init_subclass__',\n",
       " '__iter__',\n",
       " '__le__',\n",
       " '__len__',\n",
       " '__lt__',\n",
       " '__mul__',\n",
       " '__ne__',\n",
       " '__new__',\n",
       " '__reduce__',\n",
       " '__reduce_ex__',\n",
       " '__repr__',\n",
       " '__reversed__',\n",
       " '__rmul__',\n",
       " '__setattr__',\n",
       " '__setitem__',\n",
       " '__sizeof__',\n",
       " '__str__',\n",
       " '__subclasshook__',\n",
       " 'append',\n",
       " 'clear',\n",
       " 'copy',\n",
       " 'count',\n",
       " 'extend',\n",
       " 'index',\n",
       " 'insert',\n",
       " 'pop',\n",
       " 'remove',\n",
       " 'reverse',\n",
       " 'sort']"
      ]
     },
     "execution_count": 13,
     "metadata": {},
     "output_type": "execute_result"
    }
   ],
   "source": [
    "dir(mylist)"
   ]
  },
  {
   "cell_type": "code",
   "execution_count": 58,
   "metadata": {
    "slideshow": {
     "slide_type": "fragment"
    }
   },
   "outputs": [
    {
     "name": "stdout",
     "output_type": "stream",
     "text": [
      "['__add__', '__class__', '__contains__', '__delattr__', '__delitem__', '__dir__', '__doc__', '__eq__', '__format__', '__ge__', '__getattribute__', '__getitem__', '__gt__', '__hash__', '__iadd__', '__imul__', '__init__', '__init_subclass__', '__iter__', '__le__', '__len__', '__lt__', '__mul__', '__ne__', '__new__', '__reduce__', '__reduce_ex__', '__repr__', '__reversed__', '__rmul__', '__setattr__', '__setitem__', '__sizeof__', '__str__', '__subclasshook__']\n"
     ]
    }
   ],
   "source": [
    "# take all the special attributes/methods of mylist\n",
    "dir_mylist = dir(mylist)\n",
    "special_names = [name for name in dir_mylist if name.startswith('__')]\n",
    "print(special_names)"
   ]
  },
  {
   "cell_type": "markdown",
   "metadata": {},
   "source": [
    "Note that below is the equivalent way in normal for loop -- using three lines to write if we don't use list comprehension!"
   ]
  },
  {
   "cell_type": "code",
   "execution_count": 17,
   "metadata": {},
   "outputs": [
    {
     "name": "stdout",
     "output_type": "stream",
     "text": [
      "['__add__', '__class__', '__contains__', '__delattr__', '__delitem__', '__dir__', '__doc__', '__eq__', '__format__', '__ge__', '__getattribute__', '__getitem__', '__gt__', '__hash__', '__iadd__', '__imul__', '__init__', '__init_subclass__', '__iter__', '__le__', '__len__', '__lt__', '__mul__', '__ne__', '__new__', '__reduce__', '__reduce_ex__', '__repr__', '__reversed__', '__rmul__', '__setattr__', '__setitem__', '__sizeof__', '__str__', '__subclasshook__']\n"
     ]
    }
   ],
   "source": [
    "special_names = []\n",
    "for name in dir_mylist:\n",
    "    if name.startswith('__'): # startwith() is the method for python object str\n",
    "        special_names.append(name)\n",
    "print(special_names)"
   ]
  },
  {
   "cell_type": "markdown",
   "metadata": {
    "slideshow": {
     "slide_type": "fragment"
    }
   },
   "source": [
    "I highly recommend [this video](https://www.youtube.com/watch?v=OSGv2VnC0go) for writing the pythonic codes. Below are some more sophiscated examples -- in fact, too many loops/conditions in list comprehension can make the code less readable!"
   ]
  },
  {
   "cell_type": "code",
   "execution_count": 61,
   "metadata": {
    "slideshow": {
     "slide_type": "fragment"
    }
   },
   "outputs": [
    {
     "name": "stdout",
     "output_type": "stream",
     "text": [
      "['Even', 'Odd', 'Even', 'Odd', 'Even', 'Odd', 'Even', 'Odd', 'Even', 'Odd', 'Even', 'Odd', 'Even', 'Odd', 'Even', 'Odd', 'Even', 'Odd', 'Even', 'Odd', 'Even', 'Odd', 'Even', 'Odd', 'Even', 'Odd', 'Even', 'Odd', 'Even', 'Odd', 'Even', 'Odd', 'Even', 'Odd', 'Even', 'Odd', 'Even', 'Odd', 'Even', 'Odd', 'Even', 'Odd', 'Even', 'Odd', 'Even', 'Odd', 'Even', 'Odd', 'Even', 'Odd', 'Even', 'Odd', 'Even', 'Odd', 'Even', 'Odd', 'Even', 'Odd', 'Even', 'Odd', 'Even', 'Odd', 'Even', 'Odd', 'Even', 'Odd', 'Even', 'Odd', 'Even', 'Odd', 'Even', 'Odd', 'Even', 'Odd', 'Even', 'Odd', 'Even', 'Odd', 'Even', 'Odd', 'Even', 'Odd', 'Even', 'Odd', 'Even', 'Odd', 'Even', 'Odd', 'Even', 'Odd', 'Even', 'Odd', 'Even', 'Odd', 'Even', 'Odd', 'Even', 'Odd', 'Even', 'Odd']\n"
     ]
    }
   ],
   "source": [
    "obj = [\"Even\" if i%2==0 else \"Odd\" for i in range(100)]\n",
    "print(obj)"
   ]
  },
  {
   "cell_type": "code",
   "execution_count": 70,
   "metadata": {
    "slideshow": {
     "slide_type": "fragment"
    }
   },
   "outputs": [
    {
     "name": "stdout",
     "output_type": "stream",
     "text": [
      "[1, 2, 3, 4, 5, 6, 7, 8, 9]\n"
     ]
    }
   ],
   "source": [
    "vec = [[1,2,3], [4,5,6], [7,8,9]]\n",
    "vec_flat = [num for elem in vec for num in elem] # nested loop\n",
    "print(vec_flat)"
   ]
  },
  {
   "cell_type": "code",
   "execution_count": 69,
   "metadata": {},
   "outputs": [
    {
     "name": "stdout",
     "output_type": "stream",
     "text": [
      "[1, 2, 3, 4, 5, 6, 7, 8, 9]\n"
     ]
    }
   ],
   "source": [
    "vec_flat2 = [] #This is the nested loop that's equivalent to the above\n",
    "for elem in vec:\n",
    "    for num in elem:\n",
    "        vec_flat2.append(num)\n",
    "print(vec_flat2)"
   ]
  },
  {
   "cell_type": "markdown",
   "metadata": {
    "slideshow": {
     "slide_type": "slide"
    }
   },
   "source": [
    "## Functions"
   ]
  },
  {
   "cell_type": "markdown",
   "metadata": {
    "slideshow": {
     "slide_type": "fragment"
    }
   },
   "source": [
    "### Defining the Function\n",
    "\n",
    "To define the function:\n",
    "\n",
    "`def func_name (arg1, arg2 = value):\n",
    "      statements\n",
    "      return value # if there's no return statement, just return None`       \n",
    "\n",
    "Here `arg1` is the normal argument, while `arg2` has the default value if no object is passed during the call. Note here that the order is important -- normal arguments first, followed by arguments with default values. \n",
    "\n",
    "In Python, functions are also objects! So running the codes above will create the function object, and using the name `func_name` to point to this object.\n",
    "\n",
    "*Remark:* In some languages like C, there's clear distinction between terms *parameters* (when defining) and *arguments* (when calling), while in Python we can just use the words more casually."
   ]
  },
  {
   "cell_type": "code",
   "execution_count": 82,
   "metadata": {
    "slideshow": {
     "slide_type": "slide"
    }
   },
   "outputs": [],
   "source": [
    "def simple_function():\n",
    "    '''this is a very simple function with neither input (arguments) nor output (return)'''\n",
    "    pass # pass indicates an empty block of statements"
   ]
  },
  {
   "cell_type": "code",
   "execution_count": 84,
   "metadata": {
    "slideshow": {
     "slide_type": "fragment"
    }
   },
   "outputs": [
    {
     "name": "stdout",
     "output_type": "stream",
     "text": [
      "[None, <function simple_function at 0x0000022946AFA820>]\n"
     ]
    }
   ],
   "source": [
    "y1 = simple_function() # y1 points to the return value\n",
    "y2 = simple_function # y2 points to the function object, later you can just call the function by y2()\n",
    "print([y1,y2])"
   ]
  },
  {
   "cell_type": "code",
   "execution_count": 75,
   "metadata": {},
   "outputs": [
    {
     "name": "stdout",
     "output_type": "stream",
     "text": [
      "<function simple_function at 0x0000022946AFA820>\n"
     ]
    }
   ],
   "source": [
    "print(y2)"
   ]
  },
  {
   "cell_type": "code",
   "execution_count": 76,
   "metadata": {
    "slideshow": {
     "slide_type": "fragment"
    }
   },
   "outputs": [
    {
     "data": {
      "text/plain": [
       "NoneType"
      ]
     },
     "execution_count": 76,
     "metadata": {},
     "output_type": "execute_result"
    }
   ],
   "source": [
    "type(None)"
   ]
  },
  {
   "cell_type": "code",
   "execution_count": 77,
   "metadata": {
    "slideshow": {
     "slide_type": "fragment"
    }
   },
   "outputs": [
    {
     "data": {
      "text/plain": [
       "['__annotations__',\n",
       " '__call__',\n",
       " '__class__',\n",
       " '__closure__',\n",
       " '__code__',\n",
       " '__defaults__',\n",
       " '__delattr__',\n",
       " '__dict__',\n",
       " '__dir__',\n",
       " '__doc__',\n",
       " '__eq__',\n",
       " '__format__',\n",
       " '__ge__',\n",
       " '__get__',\n",
       " '__getattribute__',\n",
       " '__globals__',\n",
       " '__gt__',\n",
       " '__hash__',\n",
       " '__init__',\n",
       " '__init_subclass__',\n",
       " '__kwdefaults__',\n",
       " '__le__',\n",
       " '__lt__',\n",
       " '__module__',\n",
       " '__name__',\n",
       " '__ne__',\n",
       " '__new__',\n",
       " '__qualname__',\n",
       " '__reduce__',\n",
       " '__reduce_ex__',\n",
       " '__repr__',\n",
       " '__setattr__',\n",
       " '__sizeof__',\n",
       " '__str__',\n",
       " '__subclasshook__']"
      ]
     },
     "execution_count": 77,
     "metadata": {},
     "output_type": "execute_result"
    }
   ],
   "source": [
    "#dir(y2)\n",
    "dir(simple_function) # return the same lists of attributes/methods of our simple_function function object"
   ]
  },
  {
   "cell_type": "code",
   "execution_count": 85,
   "metadata": {
    "slideshow": {
     "slide_type": "fragment"
    }
   },
   "outputs": [
    {
     "data": {
      "text/plain": [
       "'this is a very simple function with neither input (arguments) nor output (return)'"
      ]
     },
     "execution_count": 85,
     "metadata": {},
     "output_type": "execute_result"
    }
   ],
   "source": [
    "y2.__doc__"
   ]
  },
  {
   "cell_type": "code",
   "execution_count": 86,
   "metadata": {
    "slideshow": {
     "slide_type": "fragment"
    }
   },
   "outputs": [
    {
     "name": "stdout",
     "output_type": "stream",
     "text": [
      "Help on function simple_function in module __main__:\n",
      "\n",
      "simple_function()\n",
      "    this is a very simple function with neither input (arguments) nor output (return)\n",
      "\n"
     ]
    }
   ],
   "source": [
    "help(y2)"
   ]
  },
  {
   "cell_type": "markdown",
   "metadata": {
    "slideshow": {
     "slide_type": "slide"
    }
   },
   "source": [
    "By the way, ``help()``  is very useful for built-in types/functions or other classes/ functions defined in packages."
   ]
  },
  {
   "cell_type": "code",
   "execution_count": null,
   "metadata": {
    "scrolled": false,
    "slideshow": {
     "slide_type": "fragment"
    }
   },
   "outputs": [],
   "source": [
    "help(list)"
   ]
  },
  {
   "cell_type": "code",
   "execution_count": 88,
   "metadata": {
    "slideshow": {
     "slide_type": "fragment"
    }
   },
   "outputs": [
    {
     "name": "stdout",
     "output_type": "stream",
     "text": [
      "Help on built-in function abs in module builtins:\n",
      "\n",
      "abs(x, /)\n",
      "    Return the absolute value of the argument.\n",
      "\n"
     ]
    }
   ],
   "source": [
    "help(abs)"
   ]
  },
  {
   "cell_type": "markdown",
   "metadata": {
    "slideshow": {
     "slide_type": "slide"
    }
   },
   "source": [
    "Let's see what does the return statement do here."
   ]
  },
  {
   "cell_type": "code",
   "execution_count": 100,
   "metadata": {
    "slideshow": {
     "slide_type": "fragment"
    }
   },
   "outputs": [],
   "source": [
    "def create_list():\n",
    "    mylist = [1,2,3]\n",
    "    print(id(mylist))\n",
    "    return mylist #The return statement just pass the object to output"
   ]
  },
  {
   "cell_type": "code",
   "execution_count": 101,
   "metadata": {
    "slideshow": {
     "slide_type": "fragment"
    }
   },
   "outputs": [
    {
     "name": "stdout",
     "output_type": "stream",
     "text": [
      "2376301724096\n",
      "[1, 2, 3]\n",
      "2376301724096\n"
     ]
    }
   ],
   "source": [
    "output_list = create_list()\n",
    "print(output_list)\n",
    "print(id(output_list))"
   ]
  },
  {
   "cell_type": "markdown",
   "metadata": {},
   "source": [
    "A final remark here is that whenever the `return` is executed in Python, the function will \"jump out\" and all the remaining statements after return will not be executed -- so be cautious when you write return in the loops! An alternative way might be you just modify some variable(name) in the loop, and return the variable at the end of your function. "
   ]
  },
  {
   "cell_type": "code",
   "execution_count": 107,
   "metadata": {},
   "outputs": [],
   "source": [
    "def list_square(l):\n",
    "    ls = []\n",
    "    for x in l:\n",
    "        ls.append(x**2)\n",
    "    return ls"
   ]
  },
  {
   "cell_type": "code",
   "execution_count": 108,
   "metadata": {},
   "outputs": [
    {
     "data": {
      "text/plain": [
       "[16, 25, 36]"
      ]
     },
     "execution_count": 108,
     "metadata": {},
     "output_type": "execute_result"
    }
   ],
   "source": [
    "list_square([4,5,6])"
   ]
  },
  {
   "cell_type": "markdown",
   "metadata": {
    "slideshow": {
     "slide_type": "slide"
    }
   },
   "source": [
    "### Calling the Function"
   ]
  },
  {
   "cell_type": "markdown",
   "metadata": {
    "slideshow": {
     "slide_type": "fragment"
    }
   },
   "source": [
    "When calling the functions, the arguments can be matched by position (normal argument) or by name (key word argument). We will omit the [more complicated cases](https://docs.python.org/3/tutorial/controlflow.html#special-parameters) in our course. Let's learn through this simple example."
   ]
  },
  {
   "cell_type": "code",
   "execution_count": 109,
   "metadata": {
    "slideshow": {
     "slide_type": "fragment"
    }
   },
   "outputs": [],
   "source": [
    "def func(a, b, c=3, d=4):\n",
    "    print([a, b, c, d])"
   ]
  },
  {
   "cell_type": "code",
   "execution_count": 111,
   "metadata": {
    "slideshow": {
     "slide_type": "fragment"
    }
   },
   "outputs": [
    {
     "name": "stdout",
     "output_type": "stream",
     "text": [
      "[1, 2, 3, 4]\n",
      "[1, 2, 5, 4]\n",
      "[1, 0, 2, 4]\n"
     ]
    }
   ],
   "source": [
    "func(1, 2) # a=1, b=2\n",
    "\n",
    "func(1, 2, 5, 4) # a=1, b=2, c=3, d=4\n",
    "\n",
    "func(1, c=2, b=0) # a=1, b=0, c=0, d=4"
   ]
  },
  {
   "cell_type": "markdown",
   "metadata": {
    "slideshow": {
     "slide_type": "slide"
    }
   },
   "source": [
    "### Argument Passing: Passing by *Object Reference* in Python\n",
    "\n",
    "In Matlab, the arguments are usually **passed by value** in the functions. However, Python functions **pass the arguments by object reference**. \n",
    "\n",
    "For simplicity, below we do not discuss the global variables here (As the famous saying goes, *global variables are evil in object-oriented languages*).\n",
    "\n",
    "In Python, suppose we have an object named ``obj_python`` that is passed to a function ``func(obj_func)``. What the function does is create a new name (identifier) by ``obj_func = obj_python`` that points to the **same object** (instead of creating a new object!). All the statements within function are then executed with the name (identifier) ``obj_fun``, and the name ``obj_fun`` will be destroyed after calling the function. \n",
    "\n",
    "- For *mutable objects*, the modification with ``obj_fun`` inside the function may change the value of object, which is pointed by the name ``obj_python`` outside the function. \n",
    "- For *immutable objects*, since the value cannot be modified once the object is created, the function will not affect the object pointed by ``obj_python``.\n",
    "- That's why some people say in Python, the immutable objects are passed by values, while the mutable objects are passed by reference or pointer -- they are indeed the ''net effects''. In fact, these observations are the reflections of **passing by object reference** mechanism in Python."
   ]
  },
  {
   "cell_type": "code",
   "execution_count": 116,
   "metadata": {
    "slideshow": {
     "slide_type": "fragment"
    }
   },
   "outputs": [],
   "source": [
    "def modify_list(mylist): \n",
    "    '''modify the first element of list '''\n",
    "    print(id(mylist))\n",
    "    mylist[0] = 100 # Note here we don't return anything (or return None)\n",
    "    y = mylist[0] # this y is just local name -- will be destryed if we don't return (passing it to the outside)!"
   ]
  },
  {
   "cell_type": "code",
   "execution_count": 117,
   "metadata": {
    "slideshow": {
     "slide_type": "fragment"
    }
   },
   "outputs": [
    {
     "name": "stdout",
     "output_type": "stream",
     "text": [
      "2376302124544\n",
      "2376302124544\n",
      "None\n",
      "[100, 2, 3]\n",
      "2376302124544\n"
     ]
    }
   ],
   "source": [
    "mylist = [1,2,3]\n",
    "print(id(mylist))\n",
    "\n",
    "y = modify_list(mylist = mylist) #by calling the function, we have another results printed. \n",
    "\n",
    "# Note the left mylist just means the keyword in function, and the right keyword means \n",
    "# the argument object we are passing into the function!\n",
    "\n",
    "print(y)\n",
    "print(mylist)\n",
    "print(id(mylist))"
   ]
  },
  {
   "cell_type": "markdown",
   "metadata": {},
   "source": [
    "Of course, it might be a better practice to avoid the same parameter and input object name."
   ]
  },
  {
   "cell_type": "code",
   "execution_count": 119,
   "metadata": {},
   "outputs": [
    {
     "name": "stdout",
     "output_type": "stream",
     "text": [
      "2376302221184\n",
      "[100, 2, 334]\n"
     ]
    }
   ],
   "source": [
    "mylist1 = [1,2,334]\n",
    "modify_list(mylist = mylist1)\n",
    "print(mylist1)"
   ]
  },
  {
   "cell_type": "code",
   "execution_count": 123,
   "metadata": {},
   "outputs": [
    {
     "name": "stdout",
     "output_type": "stream",
     "text": [
      "None\n",
      "[100, 2, 334]\n"
     ]
    }
   ],
   "source": [
    "w = mylist1.reverse()\n",
    "print(w)\n",
    "print(mylist1)"
   ]
  },
  {
   "cell_type": "markdown",
   "metadata": {
    "slideshow": {
     "slide_type": "fragment"
    }
   },
   "source": [
    "This reminds us about the `reverse()` or `sort()` methods of `list` that we talked about in the last lecture -- modifying the mutable ojects **in place**."
   ]
  },
  {
   "cell_type": "markdown",
   "metadata": {},
   "source": [
    "Compare with other examples:"
   ]
  },
  {
   "cell_type": "code",
   "execution_count": 124,
   "metadata": {
    "slideshow": {
     "slide_type": "slide"
    }
   },
   "outputs": [],
   "source": [
    "def modify_list_complete(mylist):\n",
    "    '''modify the list completely by creating a new one, without return'''\n",
    "    mylist = [100,2,3] # this mylist is just local name -- will be destroyed if we don't return (passing it to the outside)!"
   ]
  },
  {
   "cell_type": "code",
   "execution_count": 126,
   "metadata": {
    "slideshow": {
     "slide_type": "fragment"
    }
   },
   "outputs": [
    {
     "name": "stdout",
     "output_type": "stream",
     "text": [
      "[1, 2, 3]\n"
     ]
    }
   ],
   "source": [
    "mylist = [1,2,3]\n",
    "modify_list_complete(mylist = mylist)\n",
    "print(mylist)"
   ]
  },
  {
   "cell_type": "code",
   "execution_count": 127,
   "metadata": {
    "slideshow": {
     "slide_type": "fragment"
    }
   },
   "outputs": [],
   "source": [
    "def modify_list_complete_new(mylist):\n",
    "    '''modify the list completely by creating a new one, and return'''\n",
    "    mylist = [100,2,3] \n",
    "    return mylist "
   ]
  },
  {
   "cell_type": "code",
   "execution_count": 129,
   "metadata": {
    "slideshow": {
     "slide_type": "fragment"
    }
   },
   "outputs": [
    {
     "name": "stdout",
     "output_type": "stream",
     "text": [
      "[1, 2, 3]\n",
      "[100, 2, 3]\n"
     ]
    }
   ],
   "source": [
    "mylist = [1,2,3]\n",
    "y = modify_list_complete_new(mylist = mylist)\n",
    "print(mylist)\n",
    "print(y)"
   ]
  },
  {
   "cell_type": "markdown",
   "metadata": {
    "slideshow": {
     "slide_type": "slide"
    }
   },
   "source": [
    "Now use the following example to test if you really understand :"
   ]
  },
  {
   "cell_type": "code",
   "execution_count": 60,
   "metadata": {
    "slideshow": {
     "slide_type": "fragment"
    }
   },
   "outputs": [
    {
     "name": "stdout",
     "output_type": "stream",
     "text": [
      "1\n",
      "[1000, 2, 3]\n",
      "1\n",
      "[1, 2, 3]\n"
     ]
    }
   ],
   "source": [
    "def modifier(myint, mylist): \n",
    "    '''modify the immutable integer and mutable list simultaneously'''\n",
    "    myint = 1000\n",
    "    mylist[0] = 1000\n",
    "\n",
    "    \n",
    "a = 1\n",
    "b = [1,2,3]\n",
    "\n",
    "y = modifier(a,b)\n",
    "print(a)\n",
    "print(b)\n",
    "\n",
    "a = 1\n",
    "b = [1,2,3]\n",
    "\n",
    "modifier(a,b.copy())\n",
    "print(a)\n",
    "print(b)"
   ]
  },
  {
   "cell_type": "markdown",
   "metadata": {},
   "source": [
    "**Take-home message**: Don’t change mutable arguments in Python functions unless you intend to do it. This is something really different with Matlab!"
   ]
  },
  {
   "cell_type": "markdown",
   "metadata": {
    "slideshow": {
     "slide_type": "slide"
    }
   },
   "source": [
    "### Lambda Function\n",
    "\n",
    "Lambda function provides a convenient way for defining simple functions. [Despite its simplicity, Guido Van Rossum used to consider remove it in Python 3](https://philip-trauner.me/blog/post/python-quirks-lambdas)."
   ]
  },
  {
   "cell_type": "code",
   "execution_count": 130,
   "metadata": {
    "slideshow": {
     "slide_type": "fragment"
    }
   },
   "outputs": [
    {
     "name": "stdout",
     "output_type": "stream",
     "text": [
      "2500\n",
      "[0, 1, 4, 9, 16, 25, 36, 49, 64, 81]\n"
     ]
    }
   ],
   "source": [
    "f_square = lambda x: x*x\n",
    "\n",
    "print(f_square(50))\n",
    "\n",
    "mylist = list(range(10))\n",
    "mylist_square = [f_square(x) for x in mylist]\n",
    "print(mylist_square)"
   ]
  },
  {
   "cell_type": "code",
   "execution_count": null,
   "metadata": {},
   "outputs": [],
   "source": []
  }
 ],
 "metadata": {
  "kernelspec": {
   "display_name": "Python 3 (ipykernel)",
   "language": "python",
   "name": "python3"
  },
  "language_info": {
   "codemirror_mode": {
    "name": "ipython",
    "version": 3
   },
   "file_extension": ".py",
   "mimetype": "text/x-python",
   "name": "python",
   "nbconvert_exporter": "python",
   "pygments_lexer": "ipython3",
   "version": "3.9.12"
  }
 },
 "nbformat": 4,
 "nbformat_minor": 4
}
